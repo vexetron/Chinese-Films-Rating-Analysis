{
 "cells": [
  {
   "cell_type": "markdown",
   "metadata": {
    "slideshow": {
     "slide_type": "slide"
    }
   },
   "source": [
    "国产电影质量与上映时间分析\n",
    "=======\n",
    "崔江旗 201706062308"
   ]
  },
  {
   "cell_type": "markdown",
   "metadata": {
    "slideshow": {
     "slide_type": "slide"
    }
   },
   "source": [
    "# 目标\n",
    "\n",
    "利用从豆瓣获取的 10 多年的国产电影评分数据分析国产电影质量与上映时间的关系。"
   ]
  },
  {
   "cell_type": "markdown",
   "metadata": {
    "slideshow": {
     "slide_type": "slide"
    }
   },
   "source": [
    "# Modules Used\n",
    "json, requests, re, matplotlib, datetime, numpy"
   ]
  },
  {
   "cell_type": "code",
   "execution_count": 2,
   "metadata": {
    "collapsed": true,
    "slideshow": {
     "slide_type": "subslide"
    }
   },
   "outputs": [],
   "source": [
    "import json, requests, re\n",
    "from datetime import datetime as dt\n",
    "import matplotlib.pyplot as plt\n",
    "import numpy as np"
   ]
  },
  {
   "cell_type": "markdown",
   "metadata": {
    "slideshow": {
     "slide_type": "slide"
    }
   },
   "source": [
    "# Data Collection"
   ]
  },
  {
   "cell_type": "code",
   "execution_count": null,
   "metadata": {
    "collapsed": true,
    "slideshow": {
     "slide_type": "subslide"
    }
   },
   "outputs": [],
   "source": [
    "films = []\n",
    "with open('films.json', 'w') as f:\n",
    "    for i in range(0, 4540, 20):\n",
    "        response = requests.get(\n",
    "            'https://movie.douban.com/j/new_search_subjects\\\n",
    "            ?sort=R&range=0,10&tags=%E7%94%B5%E5%BD%B1,%E5%A4%A7%E9%99%86\\\n",
    "            &start={}'.format(i))\n",
    "        json_data = response.json()['data']\n",
    "        films.append(json_data)\n",
    "    json.dump(films, f)"
   ]
  },
  {
   "cell_type": "markdown",
   "metadata": {
    "slideshow": {
     "slide_type": "subslide"
    }
   },
   "source": [
    "上述代码会 get 227 个链接，获得相应的 json 数据，每个 json 数据包含 20 条电影信息。\n",
    "\n",
    "每条信息如下所示："
   ]
  },
  {
   "cell_type": "code",
   "execution_count": null,
   "metadata": {
    "collapsed": true,
    "slideshow": {
     "slide_type": "subslide"
    }
   },
   "outputs": [],
   "source": [
    "{'casts': ['**',],\n",
    " 'cover': 'https://img3.doubanio.com/view/photo/s_ratio_poster/public/p2506728456.jpg',\n",
    " 'cover_x': 4060,\n",
    " 'cover_y': 5760,\n",
    " 'directors': ['***'],\n",
    " 'id': '27133038',\n",
    " 'rate': '5.1',\n",
    " 'star': '25',\n",
    " 'title': '****',\n",
    " 'url': 'https://movie.douban.com/subject/27133038/'}"
   ]
  },
  {
   "cell_type": "markdown",
   "metadata": {
    "slideshow": {
     "slide_type": "subslide"
    }
   },
   "source": [
    "利用 requests, re 库抓取每个电影的具体上映日期。"
   ]
  },
  {
   "cell_type": "code",
   "execution_count": null,
   "metadata": {
    "collapsed": true,
    "slideshow": {
     "slide_type": "subslide"
    }
   },
   "outputs": [],
   "source": [
    "f = open('films.json', 'r+'):\n",
    "films = json.load(f)\n",
    "\n",
    "for film in films:\n",
    "    url = film['url']\n",
    "    response = requests.get(url)\n",
    "    if response.status_code != 404:\n",
    "        content = response.text\n",
    "        result = re.search(r'(?<=<span property=\"v:initialReleaseDate\" content=\")\\d+-\\d+-\\d+', content)\n",
    "        if result != None:\n",
    "            date = result.group()\n",
    "            film.update({'date': date})\n",
    "        result = re.search(r'(?<=<span property=\"v:initialReleaseDate\" content=\")\\d+', content)\n",
    "        if result != None:\n",
    "            year = result.group()\n",
    "        else:\n",
    "            year = re.search(r'(?<=<span class=\"year\">\\()\\d+', content).group()\n",
    "        film.update({'year': year})\n",
    "\n",
    "json.dump(films, f)\n",
    "f.close()"
   ]
  },
  {
   "cell_type": "markdown",
   "metadata": {
    "slideshow": {
     "slide_type": "slide"
    }
   },
   "source": [
    "# Data Manipulation"
   ]
  },
  {
   "cell_type": "markdown",
   "metadata": {
    "slideshow": {
     "slide_type": "subslide"
    }
   },
   "source": [
    "排除与目标无关的数据。"
   ]
  },
  {
   "cell_type": "code",
   "execution_count": 6,
   "metadata": {
    "collapsed": true,
    "slideshow": {
     "slide_type": "subslide"
    }
   },
   "outputs": [],
   "source": [
    "f = open('films.json'):\n",
    "films = json.load(f)\n",
    "    \n",
    "for i in range(len(films)):\n",
    "    del films[i]['casts']\n",
    "    del films[i]['cover']\n",
    "    del films[i]['cover_x']\n",
    "    del films[i]['cover_y']\n",
    "    del films[i]['directors']\n",
    "    del films[i]['id']\n",
    "    del films[i]['star']\n",
    "    del films[i]['title']\n",
    "    \n",
    "json.dump(films, f)\n",
    "f.close()"
   ]
  },
  {
   "cell_type": "markdown",
   "metadata": {
    "collapsed": true,
    "slideshow": {
     "slide_type": "subslide"
    }
   },
   "source": [
    "删除 10 年前信息和无用信息。"
   ]
  },
  {
   "cell_type": "code",
   "execution_count": 3,
   "metadata": {
    "collapsed": true,
    "slideshow": {
     "slide_type": "subslide"
    }
   },
   "outputs": [],
   "source": [
    "f = open('films.json', 'r+')\n",
    "films_raw = json.load(f)\n",
    "films = []\n",
    "\n",
    "for film in films_raw:\n",
    "    if 'rate' in film:\n",
    "        if film['rate'] != '':\n",
    "            films.append(film)\n",
    "\n",
    "films_with_date = []\n",
    "films_with_year = []\n",
    "\n",
    "for film in films:\n",
    "    if 'date' in film:\n",
    "        date = dt.strptime(film['date'], '%Y-%m-%d')\n",
    "        if date >= dt(2008, 1, 1):\n",
    "            film['date'] = date\n",
    "            films_with_date.append(film)\n",
    "\n",
    "for film in films:\n",
    "    if 'year' in film:\n",
    "        year = dt.strptime(film['year'], '%Y')\n",
    "        if year >= dt(2008, 1, 1):\n",
    "            film['year'] = year\n",
    "            films_with_year.append(film)\n",
    "            \n",
    "list_of_date = []\n",
    "values = []\n",
    "for film in films_with_date:\n",
    "    list_of_date.append(film['date'])\n",
    "    values.append(float(film['rate']))\n",
    "    \n",
    "f.close()"
   ]
  },
  {
   "cell_type": "markdown",
   "metadata": {
    "slideshow": {
     "slide_type": "slide"
    }
   },
   "source": [
    "# 散点图"
   ]
  },
  {
   "cell_type": "code",
   "execution_count": 4,
   "metadata": {
    "scrolled": true,
    "slideshow": {
     "slide_type": "subslide"
    }
   },
   "outputs": [
    {
     "data": {
      "image/png": "[encoded data removed]",
      "text/plain": [
       "<matplotlib.figure.Figure at 0x1e93b406390>"
      ]
     },
     "metadata": {},
     "output_type": "display_data"
    }
   ],
   "source": [
    "plt.scatter(list_of_date, values, marker='.')\n",
    "plt.ylabel('Score')\n",
    "plt.xlabel('Year')\n",
    "\n",
    "plt.show()"
   ]
  },
  {
   "cell_type": "markdown",
   "metadata": {
    "slideshow": {
     "slide_type": "slide"
    }
   },
   "source": [
    "# 平均分折线图"
   ]
  },
  {
   "cell_type": "code",
   "execution_count": 4,
   "metadata": {
    "collapsed": true,
    "slideshow": {
     "slide_type": "subslide"
    }
   },
   "outputs": [],
   "source": [
    "score_sum = np.zeros(11)\n",
    "count = np.zeros(11)\n",
    "\n",
    "for film in films_with_year:\n",
    "    if (dt(2008, 1, 1) <= film['year'] < dt(2009, 1, 1)):\n",
    "        score_sum[0] += float(film['rate'])\n",
    "        count[0] += 1\n",
    "    elif (dt(2009, 1, 1) <= film['year'] < dt(2010, 1, 1)):\n",
    "        score_sum[1] += float(film['rate'])\n",
    "        count[1] += 1\n",
    "    elif (dt(2010, 1, 1) <= film['year'] < dt(2011, 1, 1)):\n",
    "        score_sum[2] += float(film['rate'])\n",
    "        count[2] += 1\n",
    "    elif (dt(2011, 1, 1) <= film['year'] < dt(2012, 1, 1)):\n",
    "        score_sum[3] += float(film['rate'])\n",
    "        count[3] += 1\n",
    "    elif (dt(2012, 1, 1) <= film['year'] < dt(2013, 1, 1)):\n",
    "        score_sum[4] += float(film['rate'])\n",
    "        count[4] += 1\n",
    "    elif (dt(2013, 1, 1) <= film['year'] < dt(2014, 1, 1)):\n",
    "        score_sum[5] += float(film['rate'])\n",
    "        count[5] += 1\n",
    "    elif (dt(2014, 1, 1) <= film['year'] < dt(2015, 1, 1)):\n",
    "        score_sum[6] += float(film['rate'])\n",
    "        count[6] += 1\n",
    "    elif (dt(2015, 1, 1) <= film['year'] < dt(2016, 1, 1)):\n",
    "        score_sum[7] += float(film['rate'])\n",
    "        count[7] += 1\n",
    "    elif (dt(2016, 1, 1) <= film['year'] < dt(2017, 1, 1)):\n",
    "        score_sum[8] += float(film['rate'])\n",
    "        count[8] += 1\n",
    "    elif (dt(2017, 1, 1) <= film['year'] < dt(2018, 1, 1)):\n",
    "        score_sum[9] += float(film['rate'])\n",
    "        count[9] += 1\n",
    "    elif (dt(2018, 1, 1) <= film['year'] < dt(2019, 1, 1)):\n",
    "        score_sum[10] += float(film['rate'])\n",
    "        count[10] += 1\n",
    "\n",
    "score_average = score_sum / count\n",
    "years = [x for x in range(2008, 2019)]"
   ]
  },
  {
   "cell_type": "code",
   "execution_count": 5,
   "metadata": {
    "slideshow": {
     "slide_type": "subslide"
    }
   },
   "outputs": [
    {
     "data": {
      "image/png": "[encoded data removed]",
      "text/plain": [
       "<matplotlib.figure.Figure at 0x22124ac6160>"
      ]
     },
     "metadata": {},
     "output_type": "display_data"
    }
   ],
   "source": [
    "plt.plot(years, score_average)\n",
    "plt.xlabel('Year'.format(int(count[-1])))\n",
    "plt.ylabel('Score')\n",
    "plt.show()"
   ]
  },
  {
   "cell_type": "markdown",
   "metadata": {
    "slideshow": {
     "slide_type": "slide"
    }
   },
   "source": [
    "# 结论\n",
    "\n",
    "从 2008 年到 2018 年，国产电影的质量与发布时间没有明显的线性关系；国产电影低质量作品数量增加，且占比增加，而高质量作品数量与占比显著下降。"
   ]
  },
  {
   "cell_type": "markdown",
   "metadata": {
    "slideshow": {
     "slide_type": "slide"
    }
   },
   "source": [
    "同目录下的 films.json 为“利用 requests, re 库抓取每个电影的具体上映日期”后的数据文件，即已经无需爬虫处理的数据。"
   ]
  }
 ],
 "metadata": {
  "celltoolbar": "Slideshow",
  "kernelspec": {
   "display_name": "Python 3",
   "language": "python",
   "name": "python3"
  },
  "language_info": {
   "codemirror_mode": {
    "name": "ipython",
    "version": 3
   },
   "file_extension": ".py",
   "mimetype": "text/x-python",
   "name": "python",
   "nbconvert_exporter": "python",
   "pygments_lexer": "ipython3",
   "version": "3.6.3"
  }
 },
 "nbformat": 4,
 "nbformat_minor": 2
}
